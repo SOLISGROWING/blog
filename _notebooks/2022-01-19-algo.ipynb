{
 "cells": [
  {
   "cell_type": "markdown",
   "metadata": {},
   "source": [
    "# 2022-01-19 algo diary"
   ]
  },
  {
   "cell_type": "markdown",
   "metadata": {},
   "source": [
    "욕심쟁이 판다\n",
    "https://www.acmicpc.net/problem/1937"
   ]
  },
  {
   "cell_type": "code",
   "execution_count": 28,
   "metadata": {},
   "outputs": [
    {
     "name": "stdout",
     "output_type": "stream",
     "text": [
      "4\n",
      "14 9 12 10\n",
      "1 11 5 4\n",
      "7 15 2 13\n",
      "6 3 16 8\n"
     ]
    }
   ],
   "source": [
    "n=int(input())\n",
    "forest=[list(map(int,input().split()))for _ in range(n)]"
   ]
  },
  {
   "cell_type": "code",
   "execution_count": 32,
   "metadata": {},
   "outputs": [],
   "source": [
    "dp=[[0 for _ in range(n)] for _ in range(n)]"
   ]
  },
  {
   "cell_type": "code",
   "execution_count": 34,
   "metadata": {},
   "outputs": [
    {
     "name": "stdout",
     "output_type": "stream",
     "text": [
      "4\n"
     ]
    }
   ],
   "source": [
    "def dfs(a,b):\n",
    "    \n",
    "    if dp[a][b]:\n",
    "        return dp[a][b]\n",
    "    dp[a][b]=1\n",
    "    dx=[0,1,0,-1]\n",
    "    dy=[-1,0,1,0]\n",
    "    x=a\n",
    "    y=b\n",
    "    for i in range(4):\n",
    "        nx=dx[i]+x\n",
    "        ny=dy[i]+y\n",
    "        if nx<0 or nx>=n or ny<0 or ny>=n:\n",
    "            continue\n",
    "        if forest[nx][ny]>forest[x][y]:\n",
    "            temp=dfs(nx,ny)+1\n",
    "            if dp[a][b]<temp:\n",
    "                dp[a][b]=temp\n",
    "    return dp[a][b]\n",
    "ans=-1\n",
    "for i in range(n):\n",
    "    for j in range(n):\n",
    "        ans=max(dfs(i,j),ans)\n",
    "print(ans)"
   ]
  },
  {
   "cell_type": "markdown",
   "metadata": {},
   "source": [
    "https://www.acmicpc.net/problem/9657\n",
    "백준 돌게임3"
   ]
  },
  {
   "cell_type": "code",
   "execution_count": 35,
   "metadata": {},
   "outputs": [
    {
     "name": "stdout",
     "output_type": "stream",
     "text": [
      "6\n",
      "SK\n"
     ]
    }
   ],
   "source": [
    "n=int(input())\n",
    "dp=[0 for _ in range(1111)]\n",
    "dp[1]=dp[3]=dp[4]=1\n",
    "for i in range(5,n+1):\n",
    "    if (min(dp[i-1],min(dp[i-3],dp[i-4]))==1):\n",
    "        dp[i]=0\n",
    "    else:\n",
    "        dp[i]=1\n",
    "if dp[n]:\n",
    "    print(\"SK\")\n",
    "else:\n",
    "    print(\"CY\")"
   ]
  },
  {
   "cell_type": "code",
   "execution_count": null,
   "metadata": {},
   "outputs": [],
   "source": []
  }
 ],
 "metadata": {
  "kernelspec": {
   "display_name": "Python 3 (ipykernel)",
   "language": "python",
   "name": "python3"
  },
  "language_info": {
   "codemirror_mode": {
    "name": "ipython",
    "version": 3
   },
   "file_extension": ".py",
   "mimetype": "text/x-python",
   "name": "python",
   "nbconvert_exporter": "python",
   "pygments_lexer": "ipython3",
   "version": "3.9.6"
  },
  "pycharm": {
   "stem_cell": {
    "cell_type": "raw",
    "metadata": {
     "collapsed": false
    },
    "source": [
     "\n",
     "print(\"hi\")\n",
     "a=1\n",
     "print(a)\n",
     "\n",
     "\n",
     "\n"
    ]
   }
  }
 },
 "nbformat": 4,
 "nbformat_minor": 1
}
