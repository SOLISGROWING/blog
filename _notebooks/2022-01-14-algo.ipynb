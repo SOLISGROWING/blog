{
 "cells": [
  {
   "cell_type": "markdown",
   "metadata": {},
   "source": [
    "# 2022-01-14-algo-diary"
   ]
  },
  {
   "cell_type": "markdown",
   "metadata": {},
   "source": [
    "백준 1431 시리얼번호"
   ]
  },
  {
   "cell_type": "code",
   "execution_count": 35,
   "metadata": {},
   "outputs": [
    {
     "name": "stdout",
     "output_type": "stream",
     "text": [
      "5\n",
      "abcd\n",
      "145c\n",
      "a\n",
      "a910\n",
      "z321\n",
      "a\n",
      "abcd\n",
      "z321\n",
      "145c\n",
      "a910\n"
     ]
    }
   ],
   "source": [
    "n=int(input())\n",
    "gitar=[]\n",
    "for i in range(n):\n",
    "    temp=list(input())\n",
    "    t=[int(i) for i in temp if i.isdigit()]\n",
    "    if len(t)==0:\n",
    "        total=0\n",
    "    else:\n",
    "        total=sum(t)\n",
    "    gitar.append([len(temp),total,temp])\n",
    "gitar=sorted(gitar)\n",
    "for g in gitar:\n",
    "    ggg=[str(gg) for gg in g[2]]\n",
    "    print(''.join(ggg))"
   ]
  },
  {
   "cell_type": "markdown",
   "metadata": {},
   "source": [
    "백준 6198 옥상정원"
   ]
  },
  {
   "cell_type": "code",
   "execution_count": 38,
   "metadata": {},
   "outputs": [
    {
     "name": "stdout",
     "output_type": "stream",
     "text": [
      "6\n",
      "10\n",
      "3\n",
      "7\n",
      "4\n",
      "12\n",
      "2\n",
      "5\n"
     ]
    }
   ],
   "source": [
    "n=int(input())\n",
    "result=0\n",
    "q=[]\n",
    "for i in range(n):\n",
    "    temp=int(input())\n",
    "    while q and q[-1]<=temp:\n",
    "        q.pop()\n",
    "    result+=len(q)\n",
    "    q.append(temp)\n",
    "print(result)"
   ]
  },
  {
   "cell_type": "code",
   "execution_count": null,
   "metadata": {},
   "outputs": [],
   "source": []
  }
 ],
 "metadata": {
  "kernelspec": {
   "display_name": "Python 3 (ipykernel)",
   "language": "python",
   "name": "python3"
  },
  "language_info": {
   "codemirror_mode": {
    "name": "ipython",
    "version": 3
   },
   "file_extension": ".py",
   "mimetype": "text/x-python",
   "name": "python",
   "nbconvert_exporter": "python",
   "pygments_lexer": "ipython3",
   "version": "3.9.6"
  }
 },
 "nbformat": 4,
 "nbformat_minor": 1
}
