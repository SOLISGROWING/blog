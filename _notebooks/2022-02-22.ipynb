{
 "cells": [
  {
   "cell_type": "markdown",
   "id": "89ab3093",
   "metadata": {},
   "source": [
    "# 2022-02-22-algo"
   ]
  },
  {
   "cell_type": "markdown",
   "id": "a27eb73c",
   "metadata": {},
   "source": [
    "### 백준 침투"
   ]
  },
  {
   "cell_type": "code",
   "execution_count": 15,
   "id": "e5ede828",
   "metadata": {},
   "outputs": [
    {
     "name": "stdout",
     "output_type": "stream",
     "text": [
      "0\n",
      "0\n",
      "1\n",
      "1\n",
      "1\n",
      "1\n",
      "2\n",
      "2\n",
      "3\n",
      "3\n",
      "4\n",
      "4\n",
      "5\n",
      "5\n",
      "6\n",
      "6\n",
      "6\n",
      "7\n",
      "False\n",
      "6\n",
      "3\n",
      "1\n",
      "2\n",
      "2\n",
      "2\n",
      "3\n",
      "3\n",
      "4\n",
      "4\n",
      "4\n",
      "5\n",
      "7\n",
      "True\n",
      "7\n",
      "True\n",
      "7\n",
      "True\n",
      "7\n",
      "True\n",
      "6\n",
      "ok\n"
     ]
    }
   ],
   "source": [
    "n,m=map(int,input().split())\n",
    "arr=[list(input()) for _ in range(n)]\n",
    "di=[[0,1],[1,0],[-1,0],[0,-1]]\n",
    "visit=[[0 for _ in range(m)] for _ in range(n)]\n",
    "sucess=False\n",
    "def bfs(x,y):\n",
    "    global sucess\n",
    "    q=[[x,y]]\n",
    "    visit[x][y]=1\n",
    "    while q:\n",
    "        temp=q.pop()\n",
    "        x=temp[0]\n",
    "        y=temp[1]\n",
    "        for i in range(4):\n",
    "            nx=x+di[i][0]\n",
    "            ny=y+di[i][1]\n",
    "            if 0>nx or nx>=n or 0>y or ny>=m:\n",
    "                continue\n",
    "            if visit[nx][ny]==0 and arr[nx][ny]=='0':\n",
    "                visit[nx][ny]=1\n",
    "                q.append([nx,ny])\n",
    "for i in range(n):\n",
    "    for j in range(m):\n",
    "        if arr[i][j]=='0' and visit[i][j]=='0':\n",
    "            bfs(i,j)\n",
    "for j in range(m):\n",
    "    if visit[n-1][j]==1:\n",
    "        sucess=True\n",
    "    \n",
    "if sucess:\n",
    "    print(\"YES\")\n",
    "else:\n",
    "    print(\"No\")"
   ]
  },
  {
   "cell_type": "markdown",
   "id": "4f8e599c",
   "metadata": {},
   "source": [
    "https://www.acmicpc.net/problem/13565"
   ]
  },
  {
   "cell_type": "code",
   "execution_count": null,
   "id": "d85b82eb",
   "metadata": {},
   "outputs": [],
   "source": []
  }
 ],
 "metadata": {
  "kernelspec": {
   "display_name": "Python 3 (ipykernel)",
   "language": "python",
   "name": "python3"
  },
  "language_info": {
   "codemirror_mode": {
    "name": "ipython",
    "version": 3
   },
   "file_extension": ".py",
   "mimetype": "text/x-python",
   "name": "python",
   "nbconvert_exporter": "python",
   "pygments_lexer": "ipython3",
   "version": "3.9.6"
  }
 },
 "nbformat": 4,
 "nbformat_minor": 5
}
