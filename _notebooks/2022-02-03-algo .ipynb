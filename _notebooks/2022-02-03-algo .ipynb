{
 "cells": [
  {
   "cell_type": "markdown",
   "id": "b3ec2a88",
   "metadata": {},
   "source": [
    "# 20220223 algorithm"
   ]
  },
  {
   "cell_type": "markdown",
   "id": "03fa8f1c",
   "metadata": {},
   "source": [
    "[벽부수고 이동하기2](https://www.acmicpc.net/problem/14442)"
   ]
  },
  {
   "cell_type": "markdown",
   "id": "ae1e700e",
   "metadata": {},
   "source": [
    "![ex_screenshot](./01.png)"
   ]
  },
  {
   "cell_type": "markdown",
   "id": "915a4ff2",
   "metadata": {},
   "source": [
    "[풀이링크 출처](https://www.youtube.com/watch?v=DppIIIsR6nk)"
   ]
  },
  {
   "cell_type": "code",
   "execution_count": null,
   "id": "92e1ae3d",
   "metadata": {},
   "outputs": [],
   "source": []
  }
 ],
 "metadata": {
  "kernelspec": {
   "display_name": "Python 3 (ipykernel)",
   "language": "python",
   "name": "python3"
  },
  "language_info": {
   "codemirror_mode": {
    "name": "ipython",
    "version": 3
   },
   "file_extension": ".py",
   "mimetype": "text/x-python",
   "name": "python",
   "nbconvert_exporter": "python",
   "pygments_lexer": "ipython3",
   "version": "3.9.6"
  }
 },
 "nbformat": 4,
 "nbformat_minor": 5
}
