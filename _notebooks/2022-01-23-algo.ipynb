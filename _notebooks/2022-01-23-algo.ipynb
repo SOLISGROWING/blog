{
 "cells": [
  {
   "cell_type": "markdown",
   "id": "9b34d76f",
   "metadata": {},
   "source": [
    "# 2022-01-23-algorithm"
   ]
  },
  {
   "cell_type": "markdown",
   "id": "30c326e7",
   "metadata": {},
   "source": [
    "https://www.acmicpc.net/problem/10975"
   ]
  },
  {
   "cell_type": "markdown",
   "id": "19666d81",
   "metadata": {},
   "source": [
    "## 데크 소트 2"
   ]
  },
  {
   "cell_type": "markdown",
   "id": "09316c50",
   "metadata": {},
   "source": [
    "#### 예제\n",
    "#### 6\n",
    "#### 3\n",
    "#### 6\n",
    "#### 0\n",
    "#### 9\n",
    "#### 5\n",
    "#### 4\n",
    "#### 결과 2"
   ]
  },
  {
   "cell_type": "markdown",
   "id": "7b0d3d2f",
   "metadata": {},
   "source": [
    "### dp[i] := 구간[0,i]에서 만들어야 하는 큐의 최소\n",
    "### 점화식\n",
    "### dp[i] := min(dp[j]) (j < i)"
   ]
  }
 ],
 "metadata": {
  "kernelspec": {
   "display_name": "Python 3 (ipykernel)",
   "language": "python",
   "name": "python3"
  },
  "language_info": {
   "codemirror_mode": {
    "name": "ipython",
    "version": 3
   },
   "file_extension": ".py",
   "mimetype": "text/x-python",
   "name": "python",
   "nbconvert_exporter": "python",
   "pygments_lexer": "ipython3",
   "version": "3.9.6"
  }
 },
 "nbformat": 4,
 "nbformat_minor": 5
}
