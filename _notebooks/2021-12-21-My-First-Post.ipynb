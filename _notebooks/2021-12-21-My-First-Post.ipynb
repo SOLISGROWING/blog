{
 "cells": [
  {
   "cell_type": "markdown",
   "metadata": {},
   "source": [
    "## 오늘의 알고리즘 2021.12.21"
   ]
  },
  {
   "cell_type": "markdown",
   "metadata": {},
   "source": [
    "### 비밀메뉴 출처 : https://softeer.ai/practice/info.do?eventIdx=1&psProblemId=623&sw_prbl_sbms_sn=37604\n"
   ]
  },
  {
   "cell_type": "code",
   "execution_count": 2,
   "metadata": {},
   "outputs": [
    {
     "name": "stdout",
     "output_type": "stream",
     "text": [
      "3 10 5\n",
      "1 4 5\n",
      "3 3 1 2 4 1 4 5 1 4\n",
      "secret\n"
     ]
    }
   ],
   "source": [
    "#import sys\n",
    "n,m,k=map(int,input().split())\n",
    "menu=list(map(str,input().split()))\n",
    "secret=list(map(str,input().split()))\n",
    "me=''.join(menu)\n",
    "se=''.join(secret)\n",
    "if me in se:\n",
    "    print(\"secret\")\n",
    "elif m>n:\n",
    "    print(\"normal\")\n",
    "else:\n",
    "    print(\"normal\")"
   ]
  },
  {
   "cell_type": "markdown",
   "metadata": {},
   "source": [
    "### 지우는 소수를 좋아해 https://softeer.ai/practice/info.do?eventIdx=1&psProblemId=582&sw_prbl_sbms_sn=16917"
   ]
  },
  {
   "cell_type": "code",
   "execution_count": 3,
   "metadata": {},
   "outputs": [
    {
     "name": "stdout",
     "output_type": "stream",
     "text": [
      "10 13\n",
      "1 2 5\n",
      "1 3 1\n",
      "1 4 2\n",
      "2 5 5 \n",
      "3 5 4\n",
      "3 6 1\n",
      "4 6 1\n",
      "4 7 3\n",
      "5 8 5\n",
      "6 9 4\n",
      "7 9 2\n",
      "8 10 5\n",
      "9 10 3\n"
     ]
    },
    {
     "ename": "KeyboardInterrupt",
     "evalue": "",
     "output_type": "error",
     "traceback": [
      "\u001B[0;31m---------------------------------------------------------------------------\u001B[0m",
      "\u001B[0;31mKeyboardInterrupt\u001B[0m                         Traceback (most recent call last)",
      "\u001B[0;32m/var/folders/x7/y2h8nj0j24vcwh0f3k6lwn5h0000gn/T/ipykernel_2688/1976121179.py\u001B[0m in \u001B[0;36m<module>\u001B[0;34m\u001B[0m\n\u001B[1;32m     39\u001B[0m     \u001B[0;32mif\u001B[0m \u001B[0mok\u001B[0m\u001B[0;34m:\u001B[0m\u001B[0;34m\u001B[0m\u001B[0;34m\u001B[0m\u001B[0m\n\u001B[1;32m     40\u001B[0m         \u001B[0mprint\u001B[0m\u001B[0;34m(\u001B[0m\u001B[0mstart\u001B[0m\u001B[0;34m)\u001B[0m\u001B[0;34m\u001B[0m\u001B[0;34m\u001B[0m\u001B[0m\n\u001B[0;32m---> 41\u001B[0;31m     \u001B[0mstart\u001B[0m\u001B[0;34m+=\u001B[0m\u001B[0;36m1\u001B[0m\u001B[0;34m\u001B[0m\u001B[0;34m\u001B[0m\u001B[0m\n\u001B[0m\u001B[1;32m     42\u001B[0m \u001B[0;34m\u001B[0m\u001B[0m\n\u001B[1;32m     43\u001B[0m \u001B[0;34m\u001B[0m\u001B[0m\n",
      "\u001B[0;31mKeyboardInterrupt\u001B[0m: "
     ]
    }
   ],
   "source": [
    "from collections import deque\n",
    "import heapq\n",
    "import math\n",
    "def dijkstra():\n",
    "    heap_data = []\n",
    "    heapq.heappush(heap_data, (0, 1))\n",
    "    distance[1] = 0\n",
    "    while heap_data:\n",
    "        dist, now = heapq.heappop(heap_data)\n",
    "        if distance[now]!=dist:\n",
    "            continue\n",
    "        for i in adj[now]:\n",
    "            nextv,nextc=i[0],i[1]\n",
    "            temp=max(dist,nextc)\n",
    "            if(temp<distance[nextv]):\n",
    "                distance[nextv]=temp\n",
    "                heapq.heappush(heap_data,(temp,nextv))\n",
    "            \n",
    "\n",
    "\n",
    "n, m = map(int, input().split())\n",
    "adj = [[] for _ in range(n + 1)]\n",
    "\n",
    "for _ in range(m):\n",
    "    x, y, cost = map(int, input().split())\n",
    "    adj[x].append((y, cost))\n",
    "    adj[y].append((x, cost))\n",
    "\n",
    "distance= [1e9] * (n + 1)\n",
    "dijkstra()\n",
    "\n",
    "while True:\n",
    "    start=distance[n]+1\n",
    "    ok=1\n",
    "    for j in range(2,int(math.sqrt(start)+1)):\n",
    "        if (start%j)==0:\n",
    "            ok=0\n",
    "            break\n",
    "    if ok:\n",
    "        print(start)\n",
    "    start+=1\n",
    "                   \n",
    "\n",
    "\n",
    "\n"
   ]
  },
  {
   "cell_type": "code",
   "execution_count": 3,
   "metadata": {},
   "outputs": [
    {
     "name": "stdout",
     "output_type": "stream",
     "text": [
      "10 10\n",
      "##########\n",
      "#R#...##B#\n",
      "#...#.##.#\n",
      "#####.##.#\n",
      "#......#.#\n",
      "#.######.#\n",
      "#.#....#.#\n",
      "#.#.##...#\n",
      "#O..#....#\n",
      "##########\n",
      "7\n"
     ]
    }
   ],
   "source": [
    "n,m=map(int,input().split())\n",
    "board=[]\n",
    "for i in range(n):\n",
    "    temp=list(input())\n",
    "    for j in range(len(temp)):\n",
    "        if temp[j]=='R':\n",
    "            rx=i\n",
    "            ry=j\n",
    "        elif temp[j]=='B':\n",
    "            bx=i\n",
    "            by=j\n",
    "    board.append(temp)\n",
    "q=[]\n",
    "dx=[1,0,-1,0]\n",
    "dy=[0,1,0,-1]\n",
    "q.append([rx,ry,bx,by,0])\n",
    "visit=[[[[False for _ in range(10)] for _ in range(10)]for _ in range(10)] for _ in range(10)]\n",
    "visit[rx][ry][bx][by]=True\n",
    "def move(x,y,c,i):\n",
    "    while(board[x+dx[i]][y+dy[i]]!='#' and board[x][y]!='O'):\n",
    "        x+=dx[i]\n",
    "        y+=dy[i]\n",
    "        c+=1\n",
    "    return [x,y,c]\n",
    "flag=True      \n",
    "    \n",
    "while q:\n",
    "    qq=q.pop()\n",
    "    rx=qq[0]\n",
    "    ry=qq[1]\n",
    "    bx=qq[2]\n",
    "    by=qq[3]\n",
    "    d=qq[4]\n",
    "    \n",
    "    if d>=10:\n",
    "        break\n",
    "    \n",
    "    for i in range(4):\n",
    "        nrx=rx\n",
    "        nry=ry\n",
    "        nbx=bx\n",
    "        nby=by\n",
    "        \n",
    "        rc=0\n",
    "        bc=0\n",
    "        nd=d+1\n",
    "        \n",
    "        temps=move(nrx,nry,rc,i)\n",
    "        nrx=temps[0]\n",
    "        nry=temps[1]\n",
    "        rc=temps[2]\n",
    "        temp2=move(nbx,nby,bc,i)\n",
    "        nbx=temp2[0]\n",
    "        nby=temp2[1]\n",
    "        bc=temp2[2]\n",
    "        if(board[nbx][nby]=='O'):\n",
    "            continue\n",
    "        if(board[nrx][nry]=='O'):\n",
    "            if flag:\n",
    "                print(nd)\n",
    "                flag=False\n",
    "                exit(0)\n",
    "                break\n",
    "        \n",
    "        if(nrx==nbx and nry==nby):\n",
    "            if (rc>bc):\n",
    "                nrx-=dx[i]\n",
    "                nry-=dy[i]\n",
    "            else:\n",
    "                nbx-=dx[i]\n",
    "                nby-=dy[i]\n",
    "        \n",
    "        if(visit[nrx][nry][nbx][nby]):\n",
    "            continue\n",
    "        visit[nrx][nry][nbx][nby]=True\n",
    "        q.append([nrx,nry,nbx,nby,nd])\n",
    "if flag:\n",
    "    print(-1)\n",
    "\n",
    "        \n",
    "    \n",
    "    \n",
    "    \n",
    "    \n",
    "    "
   ]
  },
  {
   "cell_type": "code",
   "execution_count": 1,
   "metadata": {},
   "outputs": [
    {
     "ename": "NameError",
     "evalue": "name 'board' is not defined",
     "output_type": "error",
     "traceback": [
      "\u001B[0;31m---------------------------------------------------------------------------\u001B[0m",
      "\u001B[0;31mNameError\u001B[0m                                 Traceback (most recent call last)",
      "\u001B[0;32m/var/folders/x7/y2h8nj0j24vcwh0f3k6lwn5h0000gn/T/ipykernel_2779/396348846.py\u001B[0m in \u001B[0;36m<module>\u001B[0;34m\u001B[0m\n\u001B[0;32m----> 1\u001B[0;31m \u001B[0mboard\u001B[0m\u001B[0;34m\u001B[0m\u001B[0;34m\u001B[0m\u001B[0m\n\u001B[0m",
      "\u001B[0;31mNameError\u001B[0m: name 'board' is not defined"
     ]
    }
   ],
   "source": [
    "board"
   ]
  },
  {
   "cell_type": "code",
   "execution_count": 14,
   "metadata": {},
   "outputs": [
    {
     "data": {
      "text/plain": [
       "[3, 1, 0]"
      ]
     },
     "execution_count": 14,
     "metadata": {},
     "output_type": "execute_result"
    }
   ],
   "source": [
    "temps"
   ]
  }
 ],
 "metadata": {
  "kernelspec": {
   "display_name": "Python 3 (ipykernel)",
   "language": "python",
   "name": "python3"
  },
  "language_info": {
   "codemirror_mode": {
    "name": "ipython",
    "version": 3
   },
   "file_extension": ".py",
   "mimetype": "text/x-python",
   "name": "python",
   "nbconvert_exporter": "python",
   "pygments_lexer": "ipython3",
   "version": "3.9.6"
  }
 },
 "nbformat": 4,
 "nbformat_minor": 1
}