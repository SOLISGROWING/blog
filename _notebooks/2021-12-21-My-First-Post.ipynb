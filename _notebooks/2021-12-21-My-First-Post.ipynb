{
 "cells": [
  {
   "cell_type": "markdown",
   "metadata": {},
   "source": [
    "# 2021-12-21-My-First-Post"
   ]
  },
  {
   "cell_type": "markdown",
   "metadata": {},
   "source": [
    "## 오늘의 알고리즘 2021.12.21"
   ]
  },
  {
   "cell_type": "markdown",
   "metadata": {},
   "source": [
    "### 비밀메뉴 출처 : https://softeer.ai/practice/info.do?eventIdx=1&psProblemId=623&sw_prbl_sbms_sn=37604\n"
   ]
  },
  {
   "cell_type": "code",
   "execution_count": 2,
   "metadata": {},
   "outputs": [
    {
     "name": "stdout",
     "output_type": "stream",
     "text": [
      "3 10 5\n",
      "1 4 5\n",
      "3 3 1 2 4 1 4 5 1 4\n",
      "secret\n"
     ]
    }
   ],
   "source": [
    "#import sys\n",
    "n,m,k=map(int,input().split())\n",
    "menu=list(map(str,input().split()))\n",
    "secret=list(map(str,input().split()))\n",
    "me=''.join(menu)\n",
    "se=''.join(secret)\n",
    "if me in se:\n",
    "    print(\"secret\")\n",
    "elif m>n:\n",
    "    print(\"normal\")\n",
    "else:\n",
    "    print(\"normal\")"
   ]
  },
  {
   "cell_type": "markdown",
   "metadata": {},
   "source": [
    "### 지우는 소수를 좋아해 https://softeer.ai/practice/info.do?eventIdx=1&psProblemId=582&sw_prbl_sbms_sn=16917"
   ]
  },
  {
   "cell_type": "code",
   "execution_count": 2,
   "metadata": {
    "collapsed": true
   },
   "outputs": [
    {
     "ename": "KeyboardInterrupt",
     "evalue": "Interrupted by user",
     "output_type": "error",
     "traceback": [
      "\u001b[0;31m---------------------------------------------------------------------------\u001b[0m",
      "\u001b[0;31mKeyboardInterrupt\u001b[0m                         Traceback (most recent call last)",
      "\u001b[0;32m/var/folders/x7/y2h8nj0j24vcwh0f3k6lwn5h0000gn/T/ipykernel_31024/1976121179.py\u001b[0m in \u001b[0;36m<module>\u001b[0;34m\u001b[0m\n\u001b[1;32m     19\u001b[0m \u001b[0;34m\u001b[0m\u001b[0m\n\u001b[1;32m     20\u001b[0m \u001b[0;34m\u001b[0m\u001b[0m\n\u001b[0;32m---> 21\u001b[0;31m \u001b[0mn\u001b[0m\u001b[0;34m,\u001b[0m \u001b[0mm\u001b[0m \u001b[0;34m=\u001b[0m \u001b[0mmap\u001b[0m\u001b[0;34m(\u001b[0m\u001b[0mint\u001b[0m\u001b[0;34m,\u001b[0m \u001b[0minput\u001b[0m\u001b[0;34m(\u001b[0m\u001b[0;34m)\u001b[0m\u001b[0;34m.\u001b[0m\u001b[0msplit\u001b[0m\u001b[0;34m(\u001b[0m\u001b[0;34m)\u001b[0m\u001b[0;34m)\u001b[0m\u001b[0;34m\u001b[0m\u001b[0;34m\u001b[0m\u001b[0m\n\u001b[0m\u001b[1;32m     22\u001b[0m \u001b[0madj\u001b[0m \u001b[0;34m=\u001b[0m \u001b[0;34m[\u001b[0m\u001b[0;34m[\u001b[0m\u001b[0;34m]\u001b[0m \u001b[0;32mfor\u001b[0m \u001b[0m_\u001b[0m \u001b[0;32min\u001b[0m \u001b[0mrange\u001b[0m\u001b[0;34m(\u001b[0m\u001b[0mn\u001b[0m \u001b[0;34m+\u001b[0m \u001b[0;36m1\u001b[0m\u001b[0;34m)\u001b[0m\u001b[0;34m]\u001b[0m\u001b[0;34m\u001b[0m\u001b[0;34m\u001b[0m\u001b[0m\n\u001b[1;32m     23\u001b[0m \u001b[0;34m\u001b[0m\u001b[0m\n",
      "\u001b[0;32m~/PycharmProjects/pythonProject1/venv/lib/python3.9/site-packages/ipykernel/kernelbase.py\u001b[0m in \u001b[0;36mraw_input\u001b[0;34m(self, prompt)\u001b[0m\n\u001b[1;32m   1005\u001b[0m                 \u001b[0;34m\"raw_input was called, but this frontend does not support input requests.\"\u001b[0m\u001b[0;34m\u001b[0m\u001b[0;34m\u001b[0m\u001b[0m\n\u001b[1;32m   1006\u001b[0m             )\n\u001b[0;32m-> 1007\u001b[0;31m         return self._input_request(\n\u001b[0m\u001b[1;32m   1008\u001b[0m             \u001b[0mstr\u001b[0m\u001b[0;34m(\u001b[0m\u001b[0mprompt\u001b[0m\u001b[0;34m)\u001b[0m\u001b[0;34m,\u001b[0m\u001b[0;34m\u001b[0m\u001b[0;34m\u001b[0m\u001b[0m\n\u001b[1;32m   1009\u001b[0m             \u001b[0mself\u001b[0m\u001b[0;34m.\u001b[0m\u001b[0m_parent_ident\u001b[0m\u001b[0;34m[\u001b[0m\u001b[0;34m\"shell\"\u001b[0m\u001b[0;34m]\u001b[0m\u001b[0;34m,\u001b[0m\u001b[0;34m\u001b[0m\u001b[0;34m\u001b[0m\u001b[0m\n",
      "\u001b[0;32m~/PycharmProjects/pythonProject1/venv/lib/python3.9/site-packages/ipykernel/kernelbase.py\u001b[0m in \u001b[0;36m_input_request\u001b[0;34m(self, prompt, ident, parent, password)\u001b[0m\n\u001b[1;32m   1050\u001b[0m             \u001b[0;32mexcept\u001b[0m \u001b[0mKeyboardInterrupt\u001b[0m\u001b[0;34m:\u001b[0m\u001b[0;34m\u001b[0m\u001b[0;34m\u001b[0m\u001b[0m\n\u001b[1;32m   1051\u001b[0m                 \u001b[0;31m# re-raise KeyboardInterrupt, to truncate traceback\u001b[0m\u001b[0;34m\u001b[0m\u001b[0;34m\u001b[0m\u001b[0;34m\u001b[0m\u001b[0m\n\u001b[0;32m-> 1052\u001b[0;31m                 \u001b[0;32mraise\u001b[0m \u001b[0mKeyboardInterrupt\u001b[0m\u001b[0;34m(\u001b[0m\u001b[0;34m\"Interrupted by user\"\u001b[0m\u001b[0;34m)\u001b[0m \u001b[0;32mfrom\u001b[0m \u001b[0;32mNone\u001b[0m\u001b[0;34m\u001b[0m\u001b[0;34m\u001b[0m\u001b[0m\n\u001b[0m\u001b[1;32m   1053\u001b[0m             \u001b[0;32mexcept\u001b[0m \u001b[0mException\u001b[0m\u001b[0;34m:\u001b[0m\u001b[0;34m\u001b[0m\u001b[0;34m\u001b[0m\u001b[0m\n\u001b[1;32m   1054\u001b[0m                 \u001b[0mself\u001b[0m\u001b[0;34m.\u001b[0m\u001b[0mlog\u001b[0m\u001b[0;34m.\u001b[0m\u001b[0mwarning\u001b[0m\u001b[0;34m(\u001b[0m\u001b[0;34m\"Invalid Message:\"\u001b[0m\u001b[0;34m,\u001b[0m \u001b[0mexc_info\u001b[0m\u001b[0;34m=\u001b[0m\u001b[0;32mTrue\u001b[0m\u001b[0;34m)\u001b[0m\u001b[0;34m\u001b[0m\u001b[0;34m\u001b[0m\u001b[0m\n",
      "\u001b[0;31mKeyboardInterrupt\u001b[0m: Interrupted by user"
     ]
    }
   ],
   "source": [
    "from collections import deque\n",
    "import heapq\n",
    "import math\n",
    "def dijkstra():\n",
    "    heap_data = []\n",
    "    heapq.heappush(heap_data, (0, 1))\n",
    "    distance[1] = 0\n",
    "    while heap_data:\n",
    "        dist, now = heapq.heappop(heap_data)\n",
    "        if distance[now]!=dist:\n",
    "            continue\n",
    "        for i in adj[now]:\n",
    "            nextv,nextc=i[0],i[1]\n",
    "            temp=max(dist,nextc)\n",
    "            if(temp<distance[nextv]):\n",
    "                distance[nextv]=temp\n",
    "                heapq.heappush(heap_data,(temp,nextv))\n",
    "            \n",
    "\n",
    "\n",
    "n, m = map(int, input().split())\n",
    "adj = [[] for _ in range(n + 1)]\n",
    "\n",
    "for _ in range(m):\n",
    "    x, y, cost = map(int, input().split())\n",
    "    adj[x].append((y, cost))\n",
    "    adj[y].append((x, cost))\n",
    "\n",
    "distance= [1e9] * (n + 1)\n",
    "dijkstra()\n",
    "\n",
    "while True:\n",
    "    start=distance[n]+1\n",
    "    ok=1\n",
    "    for j in range(2,int(math.sqrt(start)+1)):\n",
    "        if (start%j)==0:\n",
    "            ok=0\n",
    "            break\n",
    "    if ok:\n",
    "        print(start)\n",
    "    start+=1\n",
    "                   \n",
    "\n",
    "\n",
    "\n"
   ]
  },
  {
   "cell_type": "code",
   "execution_count": 3,
   "metadata": {},
   "outputs": [
    {
     "name": "stdout",
     "output_type": "stream",
     "text": [
      "10 10\n",
      "##########\n",
      "#R#...##B#\n",
      "#...#.##.#\n",
      "#####.##.#\n",
      "#......#.#\n",
      "#.######.#\n",
      "#.#....#.#\n",
      "#.#.##...#\n",
      "#O..#....#\n",
      "##########\n",
      "7\n"
     ]
    }
   ],
   "source": [
    "n,m=map(int,input().split())\n",
    "board=[]\n",
    "for i in range(n):\n",
    "    temp=list(input())\n",
    "    for j in range(len(temp)):\n",
    "        if temp[j]=='R':\n",
    "            rx=i\n",
    "            ry=j\n",
    "        elif temp[j]=='B':\n",
    "            bx=i\n",
    "            by=j\n",
    "    board.append(temp)\n",
    "q=[]\n",
    "dx=[1,0,-1,0]\n",
    "dy=[0,1,0,-1]\n",
    "q.append([rx,ry,bx,by,0])\n",
    "visit=[[[[False for _ in range(10)] for _ in range(10)]for _ in range(10)] for _ in range(10)]\n",
    "visit[rx][ry][bx][by]=True\n",
    "def move(x,y,c,i):\n",
    "    while(board[x+dx[i]][y+dy[i]]!='#' and board[x][y]!='O'):\n",
    "        x+=dx[i]\n",
    "        y+=dy[i]\n",
    "        c+=1\n",
    "    return [x,y,c]\n",
    "flag=True      \n",
    "    \n",
    "while q:\n",
    "    qq=q.pop()\n",
    "    rx=qq[0]\n",
    "    ry=qq[1]\n",
    "    bx=qq[2]\n",
    "    by=qq[3]\n",
    "    d=qq[4]\n",
    "    \n",
    "    if d>=10:\n",
    "        break\n",
    "    \n",
    "    for i in range(4):\n",
    "        nrx=rx\n",
    "        nry=ry\n",
    "        nbx=bx\n",
    "        nby=by\n",
    "        \n",
    "        rc=0\n",
    "        bc=0\n",
    "        nd=d+1\n",
    "        \n",
    "        temps=move(nrx,nry,rc,i)\n",
    "        nrx=temps[0]\n",
    "        nry=temps[1]\n",
    "        rc=temps[2]\n",
    "        temp2=move(nbx,nby,bc,i)\n",
    "        nbx=temp2[0]\n",
    "        nby=temp2[1]\n",
    "        bc=temp2[2]\n",
    "        if(board[nbx][nby]=='O'):\n",
    "            continue\n",
    "        if(board[nrx][nry]=='O'):\n",
    "            if flag:\n",
    "                print(nd)\n",
    "                flag=False\n",
    "                exit(0)\n",
    "                break\n",
    "        \n",
    "        if(nrx==nbx and nry==nby):\n",
    "            if (rc>bc):\n",
    "                nrx-=dx[i]\n",
    "                nry-=dy[i]\n",
    "            else:\n",
    "                nbx-=dx[i]\n",
    "                nby-=dy[i]\n",
    "        \n",
    "        if(visit[nrx][nry][nbx][nby]):\n",
    "            continue\n",
    "        visit[nrx][nry][nbx][nby]=True\n",
    "        q.append([nrx,nry,nbx,nby,nd])\n",
    "if flag:\n",
    "    print(-1)\n",
    "\n",
    "        \n",
    "    \n",
    "    \n",
    "    \n",
    "    \n",
    "    "
   ]
  }
 ],
 "metadata": {
  "kernelspec": {
   "display_name": "Python 3 (ipykernel)",
   "language": "python",
   "name": "python3"
  },
  "language_info": {
   "codemirror_mode": {
    "name": "ipython",
    "version": 3
   },
   "file_extension": ".py",
   "mimetype": "text/x-python",
   "name": "python",
   "nbconvert_exporter": "python",
   "pygments_lexer": "ipython3",
   "version": "3.9.6"
  }
 },
 "nbformat": 4,
 "nbformat_minor": 1
}
